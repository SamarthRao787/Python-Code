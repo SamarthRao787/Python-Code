{
 "cells": [
  {
   "cell_type": "markdown",
   "id": "f49ddeaa",
   "metadata": {},
   "source": [
    "#01. Importing Libraries"
   ]
  },
  {
   "cell_type": "code",
   "execution_count": 1,
   "id": "e070ad81",
   "metadata": {},
   "outputs": [],
   "source": [
    "# Import Libraries\n",
    "import pandas as pd\n",
    "import numpy as np\n",
    "import os"
   ]
  },
  {
   "cell_type": "markdown",
   "id": "b5374312",
   "metadata": {},
   "source": [
    "#02. Different Data Types"
   ]
  },
  {
   "cell_type": "code",
   "execution_count": 7,
   "id": "0b3ff2ad",
   "metadata": {},
   "outputs": [],
   "source": [
    "X = 20"
   ]
  },
  {
   "cell_type": "code",
   "execution_count": 9,
   "id": "e5737ebe",
   "metadata": {},
   "outputs": [
    {
     "name": "stdout",
     "output_type": "stream",
     "text": [
      "20\n"
     ]
    }
   ],
   "source": [
    "print(X)"
   ]
  },
  {
   "cell_type": "code",
   "execution_count": 10,
   "id": "895d1618",
   "metadata": {},
   "outputs": [],
   "source": [
    "Y = 5"
   ]
  },
  {
   "cell_type": "code",
   "execution_count": 11,
   "id": "b5cd94e5",
   "metadata": {},
   "outputs": [
    {
     "name": "stdout",
     "output_type": "stream",
     "text": [
      "5\n"
     ]
    }
   ],
   "source": [
    "print(Y)"
   ]
  },
  {
   "cell_type": "code",
   "execution_count": 14,
   "id": "98383549",
   "metadata": {},
   "outputs": [
    {
     "data": {
      "text/plain": [
       "100"
      ]
     },
     "execution_count": 14,
     "metadata": {},
     "output_type": "execute_result"
    }
   ],
   "source": [
    "X * Y"
   ]
  },
  {
   "cell_type": "code",
   "execution_count": 15,
   "id": "ce4af48e",
   "metadata": {},
   "outputs": [],
   "source": [
    "G = 10"
   ]
  },
  {
   "cell_type": "code",
   "execution_count": 16,
   "id": "3ccf8e87",
   "metadata": {},
   "outputs": [
    {
     "data": {
      "text/plain": [
       "100"
      ]
     },
     "execution_count": 16,
     "metadata": {},
     "output_type": "execute_result"
    }
   ],
   "source": [
    "G * G"
   ]
  },
  {
   "cell_type": "code",
   "execution_count": 17,
   "id": "f61161e7",
   "metadata": {},
   "outputs": [],
   "source": [
    "U = 2"
   ]
  },
  {
   "cell_type": "code",
   "execution_count": 18,
   "id": "9e359188",
   "metadata": {},
   "outputs": [
    {
     "data": {
      "text/plain": [
       "100"
      ]
     },
     "execution_count": 18,
     "metadata": {},
     "output_type": "execute_result"
    }
   ],
   "source": [
    "(G*Y)*2"
   ]
  },
  {
   "cell_type": "code",
   "execution_count": 19,
   "id": "92d5d030",
   "metadata": {},
   "outputs": [
    {
     "data": {
      "text/plain": [
       "2.0"
      ]
     },
     "execution_count": 19,
     "metadata": {},
     "output_type": "execute_result"
    }
   ],
   "source": [
    "G/Y"
   ]
  },
  {
   "cell_type": "code",
   "execution_count": 20,
   "id": "3fafe864",
   "metadata": {},
   "outputs": [
    {
     "data": {
      "text/plain": [
       "4.0"
      ]
     },
     "execution_count": 20,
     "metadata": {},
     "output_type": "execute_result"
    }
   ],
   "source": [
    "X/Y"
   ]
  },
  {
   "cell_type": "code",
   "execution_count": 21,
   "id": "18bb5733",
   "metadata": {},
   "outputs": [
    {
     "data": {
      "text/plain": [
       "20.0"
      ]
     },
     "execution_count": 21,
     "metadata": {},
     "output_type": "execute_result"
    }
   ],
   "source": [
    "(G*G)/Y"
   ]
  },
  {
   "cell_type": "code",
   "execution_count": 26,
   "id": "d8cabb67",
   "metadata": {},
   "outputs": [],
   "source": [
    "a = \"Hello,\""
   ]
  },
  {
   "cell_type": "code",
   "execution_count": 27,
   "id": "8af3b3f5",
   "metadata": {},
   "outputs": [],
   "source": [
    "b = \"Grandma\""
   ]
  },
  {
   "cell_type": "code",
   "execution_count": 28,
   "id": "304d577c",
   "metadata": {},
   "outputs": [
    {
     "data": {
      "text/plain": [
       "'Hello,Grandma'"
      ]
     },
     "execution_count": 28,
     "metadata": {},
     "output_type": "execute_result"
    }
   ],
   "source": [
    "a + b"
   ]
  },
  {
   "cell_type": "code",
   "execution_count": 29,
   "id": "c6fbd938",
   "metadata": {},
   "outputs": [],
   "source": [
    "o = \"Hey dude,\""
   ]
  },
  {
   "cell_type": "code",
   "execution_count": 30,
   "id": "35c79355",
   "metadata": {},
   "outputs": [],
   "source": [
    "j = \"What's up?\""
   ]
  },
  {
   "cell_type": "code",
   "execution_count": 31,
   "id": "800ab836",
   "metadata": {},
   "outputs": [],
   "source": [
    "r = \"do you want to play video games?\""
   ]
  },
  {
   "cell_type": "code",
   "execution_count": 32,
   "id": "51d894cd",
   "metadata": {},
   "outputs": [],
   "source": [
    "t = \"let's make some burgers\""
   ]
  },
  {
   "cell_type": "code",
   "execution_count": 33,
   "id": "26ccb3d7",
   "metadata": {},
   "outputs": [
    {
     "data": {
      "text/plain": [
       "\"Hey dude,What's up?\""
      ]
     },
     "execution_count": 33,
     "metadata": {},
     "output_type": "execute_result"
    }
   ],
   "source": [
    "o + j"
   ]
  },
  {
   "cell_type": "code",
   "execution_count": 34,
   "id": "ff1dfeb3",
   "metadata": {},
   "outputs": [
    {
     "data": {
      "text/plain": [
       "'Hey dude,do you want to play video games?'"
      ]
     },
     "execution_count": 34,
     "metadata": {},
     "output_type": "execute_result"
    }
   ],
   "source": [
    "o + r"
   ]
  },
  {
   "cell_type": "code",
   "execution_count": 35,
   "id": "fc4fd6d4",
   "metadata": {},
   "outputs": [
    {
     "data": {
      "text/plain": [
       "\"Hey dude,let's make some burgers\""
      ]
     },
     "execution_count": 35,
     "metadata": {},
     "output_type": "execute_result"
    }
   ],
   "source": [
    "o + t"
   ]
  },
  {
   "cell_type": "code",
   "execution_count": null,
   "id": "ad642b45",
   "metadata": {},
   "outputs": [],
   "source": []
  }
 ],
 "metadata": {
  "kernelspec": {
   "display_name": "Python 3 (ipykernel)",
   "language": "python",
   "name": "python3"
  },
  "language_info": {
   "codemirror_mode": {
    "name": "ipython",
    "version": 3
   },
   "file_extension": ".py",
   "mimetype": "text/x-python",
   "name": "python",
   "nbconvert_exporter": "python",
   "pygments_lexer": "ipython3",
   "version": "3.11.5"
  }
 },
 "nbformat": 4,
 "nbformat_minor": 5
}
